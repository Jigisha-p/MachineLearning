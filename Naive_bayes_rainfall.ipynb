{
 "cells": [
  {
   "attachments": {},
   "cell_type": "markdown",
   "metadata": {},
   "source": [
    "### Naive Bayes  \n",
    "Naive Bayes algorithm is based on the Bayes  theorem. \n",
    "We have three types of Naive Bayes  algorithms:  \n",
    "- Gaussian, is used when the data in labels is  drawn from a gaussian distribution  \n",
    "- Multinomial, is used when the data in labels is  drawn from a multinomial distribution  \n",
    "- Bernoulli, is used when we have to predict  binary features like 0 or 1  So let's use the naive bayes algorithm to create  to model to predict whether it will rain or not  with the dataset used in the Binomial logistic  regression. We will use the Gaussian Naive Bayes  algorithm for this model \n",
    "\n",
    "Mula, Rahul. Artificial Intelligence With Python: Learn to create intelligences artificially (Python Programming) (p. 149). Kindle Edition. "
   ]
  }
 ],
 "metadata": {
  "language_info": {
   "name": "python"
  },
  "orig_nbformat": 4
 },
 "nbformat": 4,
 "nbformat_minor": 2
}
